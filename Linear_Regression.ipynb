{
  "nbformat": 4,
  "nbformat_minor": 0,
  "metadata": {
    "colab": {
      "name": "Linear Regression.ipynb",
      "provenance": [],
      "collapsed_sections": [],
      "authorship_tag": "ABX9TyOHXmdrJkUuXKRvKDrYhV3K",
      "include_colab_link": true
    },
    "kernelspec": {
      "name": "python3",
      "display_name": "Python 3"
    }
  },
  "cells": [
    {
      "cell_type": "markdown",
      "metadata": {
        "id": "view-in-github",
        "colab_type": "text"
      },
      "source": [
        "<a href=\"https://colab.research.google.com/github/MdShahadatHossainbd/LinearRegressionPolynomialRegressionAndRandomForestRegression/blob/master/Linear_Regression.ipynb\" target=\"_parent\"><img src=\"https://colab.research.google.com/assets/colab-badge.svg\" alt=\"Open In Colab\"/></a>"
      ]
    },
    {
      "cell_type": "code",
      "metadata": {
        "id": "XNXQn-p-tg55",
        "colab_type": "code",
        "colab": {}
      },
      "source": [
        "import pandas as pd1\n",
        "from sklearn import linear_model "
      ],
      "execution_count": 0,
      "outputs": []
    },
    {
      "cell_type": "code",
      "metadata": {
        "id": "gnuZ4e6h036s",
        "colab_type": "code",
        "colab": {}
      },
      "source": [
        "from sklearn.linear_model import LinearRegression"
      ],
      "execution_count": 0,
      "outputs": []
    },
    {
      "cell_type": "code",
      "metadata": {
        "id": "1Px0F1-a1UBa",
        "colab_type": "code",
        "colab": {}
      },
      "source": [
        "import pandas as pd2\n",
        "from sklearn.ensemble import  RandomForestRegressor"
      ],
      "execution_count": 0,
      "outputs": []
    },
    {
      "cell_type": "code",
      "metadata": {
        "id": "vwTqqsqh3eKo",
        "colab_type": "code",
        "colab": {}
      },
      "source": [
        "import pandas as pd3\n",
        "from sklearn.preprocessing import PolynomialFeatures"
      ],
      "execution_count": 0,
      "outputs": []
    },
    {
      "cell_type": "code",
      "metadata": {
        "id": "ht2IXv9m399P",
        "colab_type": "code",
        "colab": {
          "base_uri": "https://localhost:8080/",
          "height": 52
        },
        "outputId": "88f36763-565b-4591-f5a1-b0d5ca26ebe1"
      },
      "source": [
        "from google.colab import drive\n",
        "drive.mount('/gdrive')\n",
        "%cd /gdrive"
      ],
      "execution_count": 8,
      "outputs": [
        {
          "output_type": "stream",
          "text": [
            "Drive already mounted at /gdrive; to attempt to forcibly remount, call drive.mount(\"/gdrive\", force_remount=True).\n",
            "/gdrive\n"
          ],
          "name": "stdout"
        }
      ]
    },
    {
      "cell_type": "code",
      "metadata": {
        "id": "lSDrbRFb4yTU",
        "colab_type": "code",
        "colab": {}
      },
      "source": [
        "file = r'/gdrive/My Drive/Car_Up.csv'\n",
        "p1=pd1.read_csv(file)"
      ],
      "execution_count": 0,
      "outputs": []
    },
    {
      "cell_type": "code",
      "metadata": {
        "id": "Os8xQHDt5fjL",
        "colab_type": "code",
        "colab": {}
      },
      "source": [
        "file = r'/gdrive/My Drive/Car_Up.csv'\n",
        "p2 = pd2.read_csv(file)"
      ],
      "execution_count": 0,
      "outputs": []
    },
    {
      "cell_type": "code",
      "metadata": {
        "id": "vNX_gP6B5ya-",
        "colab_type": "code",
        "colab": {}
      },
      "source": [
        "file = r'/gdrive/My Drive/Car_Up.csv'\n",
        "p3 = pd3.read_csv(file)"
      ],
      "execution_count": 0,
      "outputs": []
    },
    {
      "cell_type": "code",
      "metadata": {
        "id": "UukDrRuF5_Gd",
        "colab_type": "code",
        "colab": {}
      },
      "source": [
        "print(p1)"
      ],
      "execution_count": 0,
      "outputs": []
    },
    {
      "cell_type": "code",
      "metadata": {
        "id": "v3TjhJLX6JaK",
        "colab_type": "code",
        "colab": {}
      },
      "source": [
        "print(p2)"
      ],
      "execution_count": 0,
      "outputs": []
    },
    {
      "cell_type": "code",
      "metadata": {
        "id": "5aF-rBuB6OEz",
        "colab_type": "code",
        "colab": {}
      },
      "source": [
        "print(p3)"
      ],
      "execution_count": 0,
      "outputs": []
    },
    {
      "cell_type": "code",
      "metadata": {
        "id": "DgQaorRK6SGI",
        "colab_type": "code",
        "colab": {}
      },
      "source": [
        "x= p1[['Weight','Volume']]\n",
        "y= p1['CO2']"
      ],
      "execution_count": 0,
      "outputs": []
    },
    {
      "cell_type": "code",
      "metadata": {
        "id": "zWh8OPz17i-r",
        "colab_type": "code",
        "colab": {}
      },
      "source": [
        "RX=p2.iloc[:, 0:2].values\n",
        "RY=p2.iloc[:, 2].values"
      ],
      "execution_count": 0,
      "outputs": []
    },
    {
      "cell_type": "code",
      "metadata": {
        "id": "R-tFXMTG77z5",
        "colab_type": "code",
        "colab": {}
      },
      "source": [
        "PX=p3.iloc[:, 0:2].values\n",
        "PY=p3.iloc[:, 2].values"
      ],
      "execution_count": 0,
      "outputs": []
    },
    {
      "cell_type": "code",
      "metadata": {
        "id": "7OfK3bzC8GYl",
        "colab_type": "code",
        "colab": {
          "base_uri": "https://localhost:8080/",
          "height": 34
        },
        "outputId": "4fafac0c-097d-4fc1-95fa-3da744fd02bc"
      },
      "source": [
        "regression= linear_model.LinearRegression()\n",
        "regression.fit(x,y)"
      ],
      "execution_count": 25,
      "outputs": [
        {
          "output_type": "execute_result",
          "data": {
            "text/plain": [
              "LinearRegression(copy_X=True, fit_intercept=True, n_jobs=None, normalize=False)"
            ]
          },
          "metadata": {
            "tags": []
          },
          "execution_count": 25
        }
      ]
    },
    {
      "cell_type": "code",
      "metadata": {
        "id": "YnEluw5x8aQh",
        "colab_type": "code",
        "colab": {}
      },
      "source": [
        "pred=regression.predict([[2500,1395]])"
      ],
      "execution_count": 0,
      "outputs": []
    },
    {
      "cell_type": "code",
      "metadata": {
        "id": "75IWSEHU8vx-",
        "colab_type": "code",
        "colab": {}
      },
      "source": [
        "RXtrain=RX[0:32]\n",
        "RXtest=RX[32: ]\n",
        "RYtrain=RY[0:32]\n",
        "RYtest=RY[32: ]"
      ],
      "execution_count": 0,
      "outputs": []
    },
    {
      "cell_type": "code",
      "metadata": {
        "id": "7kE9CuCb9Kmk",
        "colab_type": "code",
        "colab": {}
      },
      "source": [
        "PXtrain=PX[0:32]\n",
        "PXtest=PX[32: ]\n",
        "PYtrain=PY[0:32]\n",
        "PYtest=PY[32: ]"
      ],
      "execution_count": 0,
      "outputs": []
    },
    {
      "cell_type": "code",
      "metadata": {
        "id": "MCpaJIAT9Z9K",
        "colab_type": "code",
        "colab": {}
      },
      "source": [
        "reg = RandomForestRegressor(n_estimators=5, random_state=0)\n",
        "reg.fit(RXtrain,RYtrain);"
      ],
      "execution_count": 0,
      "outputs": []
    },
    {
      "cell_type": "code",
      "metadata": {
        "id": "u3YUMmxb9tFv",
        "colab_type": "code",
        "colab": {}
      },
      "source": [
        "poly_reg= PolynomialFeatures(degree=2)"
      ],
      "execution_count": 0,
      "outputs": []
    },
    {
      "cell_type": "code",
      "metadata": {
        "id": "1XJd2tPC93Cd",
        "colab_type": "code",
        "colab": {}
      },
      "source": [
        "PX_poly = poly_reg.fit_transform(PXtrain);"
      ],
      "execution_count": 0,
      "outputs": []
    },
    {
      "cell_type": "code",
      "metadata": {
        "id": "hDLZBQoh-FwU",
        "colab_type": "code",
        "colab": {
          "base_uri": "https://localhost:8080/",
          "height": 52
        },
        "outputId": "f69f7f2d-042d-4f89-aafa-605880e55270"
      },
      "source": [
        "poly_reg.fit(PX_poly, PYtrain)"
      ],
      "execution_count": 32,
      "outputs": [
        {
          "output_type": "execute_result",
          "data": {
            "text/plain": [
              "PolynomialFeatures(degree=2, include_bias=True, interaction_only=False,\n",
              "                   order='C')"
            ]
          },
          "metadata": {
            "tags": []
          },
          "execution_count": 32
        }
      ]
    },
    {
      "cell_type": "code",
      "metadata": {
        "id": "4QdZ3doR-azq",
        "colab_type": "code",
        "colab": {}
      },
      "source": [
        "lin_reg = LinearRegression()"
      ],
      "execution_count": 0,
      "outputs": []
    },
    {
      "cell_type": "code",
      "metadata": {
        "id": "lSR_rbdc-9Fo",
        "colab_type": "code",
        "colab": {
          "base_uri": "https://localhost:8080/",
          "height": 34
        },
        "outputId": "9c9cb253-c6bc-4ef4-c6c7-8cd1eb81d90b"
      },
      "source": [
        "lin_reg.fit(PX_poly, PYtrain)"
      ],
      "execution_count": 35,
      "outputs": [
        {
          "output_type": "execute_result",
          "data": {
            "text/plain": [
              "LinearRegression(copy_X=True, fit_intercept=True, n_jobs=None, normalize=False)"
            ]
          },
          "metadata": {
            "tags": []
          },
          "execution_count": 35
        }
      ]
    },
    {
      "cell_type": "code",
      "metadata": {
        "id": "AE-HmZ4F_NIv",
        "colab_type": "code",
        "colab": {
          "base_uri": "https://localhost:8080/",
          "height": 34
        },
        "outputId": "c755f269-a464-40c5-95ca-05f88dbf7f11"
      },
      "source": [
        "print(pred)"
      ],
      "execution_count": 36,
      "outputs": [
        {
          "output_type": "stream",
          "text": [
            "[109.46042172]\n"
          ],
          "name": "stdout"
        }
      ]
    },
    {
      "cell_type": "code",
      "metadata": {
        "id": "x72esdQ9_S5_",
        "colab_type": "code",
        "colab": {
          "base_uri": "https://localhost:8080/",
          "height": 34
        },
        "outputId": "d8a0f4a6-6dad-46d7-939e-5e52f91dcc07"
      },
      "source": [
        "print(reg.predict(RXtest))"
      ],
      "execution_count": 37,
      "outputs": [
        {
          "output_type": "stream",
          "text": [
            "[ 96.  99.  99. 100.]\n"
          ],
          "name": "stdout"
        }
      ]
    },
    {
      "cell_type": "code",
      "metadata": {
        "id": "Uoy7dXQ9_bgP",
        "colab_type": "code",
        "colab": {
          "base_uri": "https://localhost:8080/",
          "height": 34
        },
        "outputId": "45255957-4f29-4233-b222-fb771578d047"
      },
      "source": [
        "print(lin_reg.predict(poly_reg.fit_transform(PXtest)))"
      ],
      "execution_count": 38,
      "outputs": [
        {
          "output_type": "stream",
          "text": [
            "[ 97.8651      99.16416458  99.41322174 107.07729846]\n"
          ],
          "name": "stdout"
        }
      ]
    }
  ]
}